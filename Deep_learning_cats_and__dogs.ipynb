{
 "cells": [
  {
   "cell_type": "code",
   "execution_count": 33,
   "metadata": {},
   "outputs": [],
   "source": [
    "import numpy as np\n",
    "import matplotlib.pyplot as plt\n",
    "import cv2\n",
    "import os"
   ]
  },
  {
   "cell_type": "code",
   "execution_count": 34,
   "metadata": {},
   "outputs": [],
   "source": [
    "dir = \"E:\\python Aegis\\cat and dogs\" ## defining directories path\n",
    "animals = [\"Dog\", \"Cat\"]"
   ]
  },
  {
   "cell_type": "code",
   "execution_count": 35,
   "metadata": {},
   "outputs": [],
   "source": [
    "train = []\n",
    "\n",
    "for animal in animals:\n",
    "    folder = os.path.join(dir, animal)\n",
    "    target = animals.index(animal)\n",
    "    for img in os.listdir(folder):\n",
    "        image = cv2.imread(os.path.join(folder,img), cv2.IMREAD_GRAYSCALE) ## i dont think colour will be a factor in classifying cats and dogs\n",
    "        new_image = cv2.resize(image, (64,64))\n",
    "        train.append([new_image, target])"
   ]
  },
  {
   "cell_type": "code",
   "execution_count": 36,
   "metadata": {},
   "outputs": [
    {
     "data": {
      "text/plain": [
       "6998"
      ]
     },
     "execution_count": 36,
     "metadata": {},
     "output_type": "execute_result"
    }
   ],
   "source": [
    "len(train) ## i have used only 6998 images out of the 24k images."
   ]
  },
  {
   "cell_type": "code",
   "execution_count": 37,
   "metadata": {},
   "outputs": [],
   "source": [
    "## its probabily a better idea to suffle the datasets as as of now it is orderd\n",
    "import random\n",
    "random.shuffle(train) ## inplace suffling"
   ]
  },
  {
   "cell_type": "code",
   "execution_count": 38,
   "metadata": {},
   "outputs": [],
   "source": [
    "## seperating the dependent and independent variable\n",
    "x = []\n",
    "y = []\n",
    "\n",
    "for independent, dependent in train:\n",
    "    x.append(independent)\n",
    "    y.append(dependent)\n",
    "    \n",
    "x = np.array(x).reshape(-1,64,64,1) ## the above loop will give us a list, we need to convert it to a numpy array"
   ]
  },
  {
   "cell_type": "code",
   "execution_count": 39,
   "metadata": {},
   "outputs": [],
   "source": [
    "from tensorflow.keras.models import Sequential\n",
    "from tensorflow.keras.layers import Conv2D, MaxPooling2D, Dense, Dropout, Activation, Flatten"
   ]
  },
  {
   "cell_type": "code",
   "execution_count": 40,
   "metadata": {},
   "outputs": [],
   "source": [
    "x = x/255.0"
   ]
  },
  {
   "cell_type": "code",
   "execution_count": 41,
   "metadata": {},
   "outputs": [],
   "source": [
    "model = Sequential()\n",
    "model.add(Conv2D(64,(3,3), input_shape = x.shape[1:]))\n",
    "model.add(Activation(\"relu\"))\n",
    "model.add(MaxPooling2D(pool_size=(2,2)))\n",
    "\n",
    "model.add(Conv2D(64,(3,3), input_shape = x.shape[1:]))\n",
    "model.add(Activation(\"relu\"))\n",
    "model.add(MaxPooling2D(pool_size=(2,2)))\n",
    "\n",
    "model.add(Flatten())\n",
    "model.add(Dense(64))\n",
    "model.add(Activation(\"relu\"))\n",
    "\n",
    "model.add(Dense(32))\n",
    "model.add(Activation(\"relu\"))\n",
    "\n",
    "model.add(Dense(1))\n",
    "model.add(Activation(\"sigmoid\"))\n",
    "\n",
    "\n",
    "model.compile(loss = \"binary_crossentropy\", optimizer = \"adam\", metrics = [\"accuracy\"])"
   ]
  },
  {
   "cell_type": "code",
   "execution_count": 42,
   "metadata": {},
   "outputs": [
    {
     "name": "stdout",
     "output_type": "stream",
     "text": [
      "Train on 6298 samples, validate on 700 samples\n",
      "Epoch 1/10\n",
      "6298/6298 [==============================] - 58s 9ms/sample - loss: 0.6797 - acc: 0.5580 - val_loss: 0.6550 - val_acc: 0.6129\n",
      "Epoch 2/10\n",
      "6298/6298 [==============================] - 56s 9ms/sample - loss: 0.6219 - acc: 0.6574 - val_loss: 0.6243 - val_acc: 0.6529\n",
      "Epoch 3/10\n",
      "6298/6298 [==============================] - 56s 9ms/sample - loss: 0.5599 - acc: 0.7124 - val_loss: 0.5674 - val_acc: 0.6843\n",
      "Epoch 4/10\n",
      "6298/6298 [==============================] - 57s 9ms/sample - loss: 0.5217 - acc: 0.7371 - val_loss: 0.5791 - val_acc: 0.7043\n",
      "Epoch 5/10\n",
      "6298/6298 [==============================] - 56s 9ms/sample - loss: 0.4943 - acc: 0.7615 - val_loss: 0.5316 - val_acc: 0.7257\n",
      "Epoch 6/10\n",
      "6298/6298 [==============================] - 56s 9ms/sample - loss: 0.4538 - acc: 0.7847 - val_loss: 0.5076 - val_acc: 0.7371\n",
      "Epoch 7/10\n",
      "6298/6298 [==============================] - 57s 9ms/sample - loss: 0.4307 - acc: 0.7990 - val_loss: 0.5139 - val_acc: 0.7314\n",
      "Epoch 8/10\n",
      "6298/6298 [==============================] - 56s 9ms/sample - loss: 0.3979 - acc: 0.8220 - val_loss: 0.5563 - val_acc: 0.7514\n",
      "Epoch 9/10\n",
      "6298/6298 [==============================] - 57s 9ms/sample - loss: 0.3649 - acc: 0.8334 - val_loss: 0.5186 - val_acc: 0.7500\n",
      "Epoch 10/10\n",
      "6298/6298 [==============================] - 56s 9ms/sample - loss: 0.3149 - acc: 0.8620 - val_loss: 0.5519 - val_acc: 0.7586\n"
     ]
    },
    {
     "data": {
      "text/plain": [
       "<tensorflow.python.keras.callbacks.History at 0x1ce9e333ba8>"
      ]
     },
     "execution_count": 42,
     "metadata": {},
     "output_type": "execute_result"
    }
   ],
   "source": [
    "model.fit(x,y,batch_size = 64, epochs = 10, validation_split=0.1)"
   ]
  },
  {
   "cell_type": "code",
   "execution_count": null,
   "metadata": {},
   "outputs": [],
   "source": []
  },
  {
   "cell_type": "code",
   "execution_count": null,
   "metadata": {},
   "outputs": [],
   "source": []
  }
 ],
 "metadata": {
  "kernelspec": {
   "display_name": "Python 3",
   "language": "python",
   "name": "python3"
  },
  "language_info": {
   "codemirror_mode": {
    "name": "ipython",
    "version": 3
   },
   "file_extension": ".py",
   "mimetype": "text/x-python",
   "name": "python",
   "nbconvert_exporter": "python",
   "pygments_lexer": "ipython3",
   "version": "3.7.0"
  }
 },
 "nbformat": 4,
 "nbformat_minor": 2
}
