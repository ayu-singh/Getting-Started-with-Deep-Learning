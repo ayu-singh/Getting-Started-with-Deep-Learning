{
 "cells": [
  {
   "cell_type": "code",
   "execution_count": 2,
   "metadata": {},
   "outputs": [],
   "source": [
    "import numpy as np\n",
    "import matplotlib.pyplot as plt\n",
    "import cv2\n",
    "import os"
   ]
  },
  {
   "cell_type": "code",
   "execution_count": 4,
   "metadata": {},
   "outputs": [],
   "source": [
    "dir = \"E:\\python Aegis\\cat and dogs\" ## defining directories path\n",
    "animals = [\"Dog\", \"Cat\"]"
   ]
  },
  {
   "cell_type": "code",
   "execution_count": 10,
   "metadata": {},
   "outputs": [],
   "source": [
    "train = []\n",
    "\n",
    "for animal in animals:\n",
    "    folder = os.path.join(dir, animal)\n",
    "    target = animals.index(animal)\n",
    "    for img in os.listdir(folder):\n",
    "        image = cv2.imread(os.path.join(folder,img), cv2.IMREAD_GRAYSCALE) ## i dont think colour will be a factor in classifying cats and dogs\n",
    "        new_image = cv2.resize(image, (50,50))\n",
    "        train.append([new_image, target])"
   ]
  },
  {
   "cell_type": "code",
   "execution_count": 11,
   "metadata": {},
   "outputs": [
    {
     "data": {
      "text/plain": [
       "6998"
      ]
     },
     "execution_count": 11,
     "metadata": {},
     "output_type": "execute_result"
    }
   ],
   "source": [
    "len(train) ## i have used only 6998 images out of the 24k images."
   ]
  },
  {
   "cell_type": "code",
   "execution_count": 12,
   "metadata": {},
   "outputs": [],
   "source": [
    "## its probabily a better idea to suffle the datasets as as of now it is orderd\n",
    "import random\n",
    "random.shuffle(train) ## inplace suffling"
   ]
  },
  {
   "cell_type": "code",
   "execution_count": 14,
   "metadata": {},
   "outputs": [],
   "source": [
    "## seperating the dependent and independent variable\n",
    "x = []\n",
    "y = []\n",
    "\n",
    "for independent, dependent in train:\n",
    "    x.append(independent)\n",
    "    y.append(dependent)\n",
    "    \n",
    "x = np.array(x).reshape(-1,50,50,1) ## the above loop will give us a list, we need to convert it to a numpy array"
   ]
  },
  {
   "cell_type": "code",
   "execution_count": 15,
   "metadata": {},
   "outputs": [],
   "source": [
    "from tensorflow.keras.models import Sequential\n",
    "from tensorflow.keras.layers import Conv2D, MaxPooling2D, Dense, Dropout, Activation, Flatten"
   ]
  },
  {
   "cell_type": "code",
   "execution_count": null,
   "metadata": {},
   "outputs": [],
   "source": [
    "x = x/255.0"
   ]
  },
  {
   "cell_type": "code",
   "execution_count": 22,
   "metadata": {},
   "outputs": [],
   "source": [
    "model = Sequential()\n",
    "model.add(Conv2D(64,(3,3), input_shape = x.shape[1:]))\n",
    "model.add(Activation(\"relu\"))\n",
    "model.add(MaxPooling2D(pool_size=(2,2)))\n",
    "\n",
    "model.add(Conv2D(64,(3,3), input_shape = x.shape[1:]))\n",
    "model.add(Activation(\"relu\"))\n",
    "model.add(MaxPooling2D(pool_size=(2,2)))\n",
    "\n",
    "model.add(Flatten())\n",
    "model.add(Dense(64))\n",
    "\n",
    "model.add(Dense(1))\n",
    "model.add(Activation(\"sigmoid\"))\n",
    "\n",
    "\n",
    "model.compile(loss = \"binary_crossentropy\", optimizer = \"adam\", metrics = [\"accuracy\"])"
   ]
  },
  {
   "cell_type": "code",
   "execution_count": 26,
   "metadata": {},
   "outputs": [
    {
     "name": "stdout",
     "output_type": "stream",
     "text": [
      "Train on 6298 samples, validate on 700 samples\n",
      "Epoch 1/10\n",
      "6298/6298 [==============================] - 20s 3ms/sample - loss: 7.9484 - acc: 0.5014 - val_loss: 8.1762 - val_acc: 0.4871\n",
      "Epoch 2/10\n",
      "6298/6298 [==============================] - 18s 3ms/sample - loss: 7.9484 - acc: 0.5014 - val_loss: 8.1762 - val_acc: 0.4871\n",
      "Epoch 3/10\n",
      "6298/6298 [==============================] - 18s 3ms/sample - loss: 7.9484 - acc: 0.5014 - val_loss: 8.1762 - val_acc: 0.4871\n",
      "Epoch 4/10\n",
      "6298/6298 [==============================] - 18s 3ms/sample - loss: 7.9484 - acc: 0.5014 - val_loss: 8.1762 - val_acc: 0.4871\n",
      "Epoch 5/10\n",
      "6298/6298 [==============================] - 18s 3ms/sample - loss: 7.9484 - acc: 0.5014 - val_loss: 8.1762 - val_acc: 0.4871\n",
      "Epoch 6/10\n",
      "6298/6298 [==============================] - 18s 3ms/sample - loss: 7.9484 - acc: 0.5014 - val_loss: 8.1762 - val_acc: 0.4871\n",
      "Epoch 7/10\n",
      "6298/6298 [==============================] - 18s 3ms/sample - loss: 7.9484 - acc: 0.5014 - val_loss: 8.1762 - val_acc: 0.4871\n",
      "Epoch 8/10\n",
      "6298/6298 [==============================] - 18s 3ms/sample - loss: 7.9484 - acc: 0.5014 - val_loss: 8.1762 - val_acc: 0.4871\n",
      "Epoch 9/10\n",
      "6298/6298 [==============================] - 18s 3ms/sample - loss: 7.9484 - acc: 0.5014 - val_loss: 8.1762 - val_acc: 0.4871\n",
      "Epoch 10/10\n",
      "6298/6298 [==============================] - 18s 3ms/sample - loss: 7.9484 - acc: 0.5014 - val_loss: 8.1762 - val_acc: 0.4871\n"
     ]
    },
    {
     "data": {
      "text/plain": [
       "<tensorflow.python.keras.callbacks.History at 0x1ce962c1dd8>"
      ]
     },
     "execution_count": 26,
     "metadata": {},
     "output_type": "execute_result"
    }
   ],
   "source": [
    "model.fit(x,y,batch_size = 64, epochs = 10, validation_split=0.1)"
   ]
  },
  {
   "cell_type": "code",
   "execution_count": null,
   "metadata": {},
   "outputs": [],
   "source": []
  },
  {
   "cell_type": "code",
   "execution_count": null,
   "metadata": {},
   "outputs": [],
   "source": []
  }
 ],
 "metadata": {
  "kernelspec": {
   "display_name": "Python 3",
   "language": "python",
   "name": "python3"
  },
  "language_info": {
   "codemirror_mode": {
    "name": "ipython",
    "version": 3
   },
   "file_extension": ".py",
   "mimetype": "text/x-python",
   "name": "python",
   "nbconvert_exporter": "python",
   "pygments_lexer": "ipython3",
   "version": "3.7.0"
  }
 },
 "nbformat": 4,
 "nbformat_minor": 2
}
